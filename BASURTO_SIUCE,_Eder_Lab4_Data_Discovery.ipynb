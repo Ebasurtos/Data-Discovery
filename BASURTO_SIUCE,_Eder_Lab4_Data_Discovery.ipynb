{
  "nbformat": 4,
  "nbformat_minor": 0,
  "metadata": {
    "colab": {
      "provenance": [],
      "authorship_tag": "ABX9TyPNoX/QCGjZjDEq3UKXAVQ8",
      "include_colab_link": true
    },
    "kernelspec": {
      "name": "python3",
      "display_name": "Python 3"
    },
    "language_info": {
      "name": "python"
    }
  },
  "cells": [
    {
      "cell_type": "markdown",
      "metadata": {
        "id": "view-in-github",
        "colab_type": "text"
      },
      "source": [
        "<a href=\"https://colab.research.google.com/github/Ebasurtos/Data-Discovery/blob/main/BASURTO_SIUCE%2C_Eder_Lab4_Data_Discovery.ipynb\" target=\"_parent\"><img src=\"https://colab.research.google.com/assets/colab-badge.svg\" alt=\"Open In Colab\"/></a>"
      ]
    },
    {
      "cell_type": "markdown",
      "source": [
        "<img src=\"https://posgrado.utec.edu.pe/sites/default/files/2023-08/Testimonial-home-2.jpg\" alt=\"HTML5 Icon\" width=\"900\" height=\"250\" >"
      ],
      "metadata": {
        "id": "LbnZWXxeBKu0"
      }
    },
    {
      "cell_type": "markdown",
      "source": [
        "# **Laboratorio: Advanced Data Cleaning and Feature Transformation with House Prices Dataset**\n",
        "\n",
        "---"
      ],
      "metadata": {
        "id": "fCP_Eiq5Bb9f"
      }
    },
    {
      "cell_type": "markdown",
      "source": [
        "# **ALUMNO: Eder Basurto Siuce**"
      ],
      "metadata": {
        "id": "7mJGmLXhlDsP"
      }
    },
    {
      "cell_type": "markdown",
      "source": [
        "## **Objetivo general**\n",
        "\n",
        "Aplicar técnicas avanzadas de limpieza de datos, codificación de variables categóricas, discretización y transformaciones numéricas (incluyendo polinómicas) sobre un dataset real para preparar la información antes del modelado."
      ],
      "metadata": {
        "id": "V8sWvefAB8oc"
      }
    },
    {
      "cell_type": "markdown",
      "source": [
        "\n",
        "## **1. Introducción teórica**\n",
        "\n",
        "En cualquier proyecto de ciencia de datos, **la etapa de preprocesamiento puede ocupar hasta el 80% del tiempo total.** Esto se debe a que los datos rara vez vienen listos para usarse: suelen tener errores, valores faltantes, formatos inconsistentes y escalas incompatibles.\n",
        "\n",
        "\n",
        "La limpieza avanzada no se limita a eliminar nulos o duplicados, sino que abarca tareas más profundas como:\n",
        "\n",
        "\n",
        "- Detectar inconsistencias semánticas (mismo valor escrito de forma distinta).\n",
        "\n",
        "- Estandarizar formatos (fechas, unidades de medida, codificación de texto).\n",
        "\n",
        "- Identificar y tratar outliers que afectan análisis y modelos.\n",
        "\n",
        "- Aplicar transformaciones matemáticas para mejorar la distribución de las variables y la capacidad predictiva de los modelos."
      ],
      "metadata": {
        "id": "IGyeRdpKCCAC"
      }
    },
    {
      "cell_type": "markdown",
      "source": [
        "## **2. Carga y exploración inicial del dataset**\n",
        "\n",
        "Usaremos el dataset House Prices – Advanced Regression Techniques de Kaggle."
      ],
      "metadata": {
        "id": "s6JI-cknCsLM"
      }
    },
    {
      "cell_type": "code",
      "source": [
        "import pandas as pd\n",
        "\n",
        "# Cargar datos\n",
        "df = pd.read_csv('train.csv')\n",
        "\n",
        "# Dimensiones y primeras filas\n",
        "print(df.shape)\n",
        "df.head()\n",
        "\n",
        "# Información general\n",
        "df.info()\n",
        "\n",
        "# Resumen estadístico\n",
        "df.describe()"
      ],
      "metadata": {
        "id": "CqkwuEg1Cwnq",
        "colab": {
          "base_uri": "https://localhost:8080/",
          "height": 1000
        },
        "outputId": "b6a3f673-f650-47b6-bb18-47b93ab9f273"
      },
      "execution_count": null,
      "outputs": [
        {
          "output_type": "stream",
          "name": "stdout",
          "text": [
            "(1460, 81)\n",
            "<class 'pandas.core.frame.DataFrame'>\n",
            "RangeIndex: 1460 entries, 0 to 1459\n",
            "Data columns (total 81 columns):\n",
            " #   Column         Non-Null Count  Dtype  \n",
            "---  ------         --------------  -----  \n",
            " 0   Id             1460 non-null   int64  \n",
            " 1   MSSubClass     1460 non-null   int64  \n",
            " 2   MSZoning       1460 non-null   object \n",
            " 3   LotFrontage    1201 non-null   float64\n",
            " 4   LotArea        1460 non-null   int64  \n",
            " 5   Street         1460 non-null   object \n",
            " 6   Alley          91 non-null     object \n",
            " 7   LotShape       1460 non-null   object \n",
            " 8   LandContour    1460 non-null   object \n",
            " 9   Utilities      1460 non-null   object \n",
            " 10  LotConfig      1460 non-null   object \n",
            " 11  LandSlope      1460 non-null   object \n",
            " 12  Neighborhood   1460 non-null   object \n",
            " 13  Condition1     1460 non-null   object \n",
            " 14  Condition2     1460 non-null   object \n",
            " 15  BldgType       1460 non-null   object \n",
            " 16  HouseStyle     1460 non-null   object \n",
            " 17  OverallQual    1460 non-null   int64  \n",
            " 18  OverallCond    1460 non-null   int64  \n",
            " 19  YearBuilt      1460 non-null   int64  \n",
            " 20  YearRemodAdd   1460 non-null   int64  \n",
            " 21  RoofStyle      1460 non-null   object \n",
            " 22  RoofMatl       1460 non-null   object \n",
            " 23  Exterior1st    1460 non-null   object \n",
            " 24  Exterior2nd    1460 non-null   object \n",
            " 25  MasVnrType     588 non-null    object \n",
            " 26  MasVnrArea     1452 non-null   float64\n",
            " 27  ExterQual      1460 non-null   object \n",
            " 28  ExterCond      1460 non-null   object \n",
            " 29  Foundation     1460 non-null   object \n",
            " 30  BsmtQual       1423 non-null   object \n",
            " 31  BsmtCond       1423 non-null   object \n",
            " 32  BsmtExposure   1422 non-null   object \n",
            " 33  BsmtFinType1   1423 non-null   object \n",
            " 34  BsmtFinSF1     1460 non-null   int64  \n",
            " 35  BsmtFinType2   1422 non-null   object \n",
            " 36  BsmtFinSF2     1460 non-null   int64  \n",
            " 37  BsmtUnfSF      1460 non-null   int64  \n",
            " 38  TotalBsmtSF    1460 non-null   int64  \n",
            " 39  Heating        1460 non-null   object \n",
            " 40  HeatingQC      1460 non-null   object \n",
            " 41  CentralAir     1460 non-null   object \n",
            " 42  Electrical     1459 non-null   object \n",
            " 43  1stFlrSF       1460 non-null   int64  \n",
            " 44  2ndFlrSF       1460 non-null   int64  \n",
            " 45  LowQualFinSF   1460 non-null   int64  \n",
            " 46  GrLivArea      1460 non-null   int64  \n",
            " 47  BsmtFullBath   1460 non-null   int64  \n",
            " 48  BsmtHalfBath   1460 non-null   int64  \n",
            " 49  FullBath       1460 non-null   int64  \n",
            " 50  HalfBath       1460 non-null   int64  \n",
            " 51  BedroomAbvGr   1460 non-null   int64  \n",
            " 52  KitchenAbvGr   1460 non-null   int64  \n",
            " 53  KitchenQual    1460 non-null   object \n",
            " 54  TotRmsAbvGrd   1460 non-null   int64  \n",
            " 55  Functional     1460 non-null   object \n",
            " 56  Fireplaces     1460 non-null   int64  \n",
            " 57  FireplaceQu    770 non-null    object \n",
            " 58  GarageType     1379 non-null   object \n",
            " 59  GarageYrBlt    1379 non-null   float64\n",
            " 60  GarageFinish   1379 non-null   object \n",
            " 61  GarageCars     1460 non-null   int64  \n",
            " 62  GarageArea     1460 non-null   int64  \n",
            " 63  GarageQual     1379 non-null   object \n",
            " 64  GarageCond     1379 non-null   object \n",
            " 65  PavedDrive     1460 non-null   object \n",
            " 66  WoodDeckSF     1460 non-null   int64  \n",
            " 67  OpenPorchSF    1460 non-null   int64  \n",
            " 68  EnclosedPorch  1460 non-null   int64  \n",
            " 69  3SsnPorch      1460 non-null   int64  \n",
            " 70  ScreenPorch    1460 non-null   int64  \n",
            " 71  PoolArea       1460 non-null   int64  \n",
            " 72  PoolQC         7 non-null      object \n",
            " 73  Fence          281 non-null    object \n",
            " 74  MiscFeature    54 non-null     object \n",
            " 75  MiscVal        1460 non-null   int64  \n",
            " 76  MoSold         1460 non-null   int64  \n",
            " 77  YrSold         1460 non-null   int64  \n",
            " 78  SaleType       1460 non-null   object \n",
            " 79  SaleCondition  1460 non-null   object \n",
            " 80  SalePrice      1460 non-null   int64  \n",
            "dtypes: float64(3), int64(35), object(43)\n",
            "memory usage: 924.0+ KB\n"
          ]
        },
        {
          "output_type": "execute_result",
          "data": {
            "text/plain": [
              "                Id   MSSubClass  LotFrontage        LotArea  OverallQual  \\\n",
              "count  1460.000000  1460.000000  1201.000000    1460.000000  1460.000000   \n",
              "mean    730.500000    56.897260    70.049958   10516.828082     6.099315   \n",
              "std     421.610009    42.300571    24.284752    9981.264932     1.382997   \n",
              "min       1.000000    20.000000    21.000000    1300.000000     1.000000   \n",
              "25%     365.750000    20.000000    59.000000    7553.500000     5.000000   \n",
              "50%     730.500000    50.000000    69.000000    9478.500000     6.000000   \n",
              "75%    1095.250000    70.000000    80.000000   11601.500000     7.000000   \n",
              "max    1460.000000   190.000000   313.000000  215245.000000    10.000000   \n",
              "\n",
              "       OverallCond    YearBuilt  YearRemodAdd   MasVnrArea   BsmtFinSF1  ...  \\\n",
              "count  1460.000000  1460.000000   1460.000000  1452.000000  1460.000000  ...   \n",
              "mean      5.575342  1971.267808   1984.865753   103.685262   443.639726  ...   \n",
              "std       1.112799    30.202904     20.645407   181.066207   456.098091  ...   \n",
              "min       1.000000  1872.000000   1950.000000     0.000000     0.000000  ...   \n",
              "25%       5.000000  1954.000000   1967.000000     0.000000     0.000000  ...   \n",
              "50%       5.000000  1973.000000   1994.000000     0.000000   383.500000  ...   \n",
              "75%       6.000000  2000.000000   2004.000000   166.000000   712.250000  ...   \n",
              "max       9.000000  2010.000000   2010.000000  1600.000000  5644.000000  ...   \n",
              "\n",
              "        WoodDeckSF  OpenPorchSF  EnclosedPorch    3SsnPorch  ScreenPorch  \\\n",
              "count  1460.000000  1460.000000    1460.000000  1460.000000  1460.000000   \n",
              "mean     94.244521    46.660274      21.954110     3.409589    15.060959   \n",
              "std     125.338794    66.256028      61.119149    29.317331    55.757415   \n",
              "min       0.000000     0.000000       0.000000     0.000000     0.000000   \n",
              "25%       0.000000     0.000000       0.000000     0.000000     0.000000   \n",
              "50%       0.000000    25.000000       0.000000     0.000000     0.000000   \n",
              "75%     168.000000    68.000000       0.000000     0.000000     0.000000   \n",
              "max     857.000000   547.000000     552.000000   508.000000   480.000000   \n",
              "\n",
              "          PoolArea       MiscVal       MoSold       YrSold      SalePrice  \n",
              "count  1460.000000   1460.000000  1460.000000  1460.000000    1460.000000  \n",
              "mean      2.758904     43.489041     6.321918  2007.815753  180921.195890  \n",
              "std      40.177307    496.123024     2.703626     1.328095   79442.502883  \n",
              "min       0.000000      0.000000     1.000000  2006.000000   34900.000000  \n",
              "25%       0.000000      0.000000     5.000000  2007.000000  129975.000000  \n",
              "50%       0.000000      0.000000     6.000000  2008.000000  163000.000000  \n",
              "75%       0.000000      0.000000     8.000000  2009.000000  214000.000000  \n",
              "max     738.000000  15500.000000    12.000000  2010.000000  755000.000000  \n",
              "\n",
              "[8 rows x 38 columns]"
            ],
            "text/html": [
              "\n",
              "  <div id=\"df-bff94a20-1b0b-441b-a140-af292d90ba78\" class=\"colab-df-container\">\n",
              "    <div>\n",
              "<style scoped>\n",
              "    .dataframe tbody tr th:only-of-type {\n",
              "        vertical-align: middle;\n",
              "    }\n",
              "\n",
              "    .dataframe tbody tr th {\n",
              "        vertical-align: top;\n",
              "    }\n",
              "\n",
              "    .dataframe thead th {\n",
              "        text-align: right;\n",
              "    }\n",
              "</style>\n",
              "<table border=\"1\" class=\"dataframe\">\n",
              "  <thead>\n",
              "    <tr style=\"text-align: right;\">\n",
              "      <th></th>\n",
              "      <th>Id</th>\n",
              "      <th>MSSubClass</th>\n",
              "      <th>LotFrontage</th>\n",
              "      <th>LotArea</th>\n",
              "      <th>OverallQual</th>\n",
              "      <th>OverallCond</th>\n",
              "      <th>YearBuilt</th>\n",
              "      <th>YearRemodAdd</th>\n",
              "      <th>MasVnrArea</th>\n",
              "      <th>BsmtFinSF1</th>\n",
              "      <th>...</th>\n",
              "      <th>WoodDeckSF</th>\n",
              "      <th>OpenPorchSF</th>\n",
              "      <th>EnclosedPorch</th>\n",
              "      <th>3SsnPorch</th>\n",
              "      <th>ScreenPorch</th>\n",
              "      <th>PoolArea</th>\n",
              "      <th>MiscVal</th>\n",
              "      <th>MoSold</th>\n",
              "      <th>YrSold</th>\n",
              "      <th>SalePrice</th>\n",
              "    </tr>\n",
              "  </thead>\n",
              "  <tbody>\n",
              "    <tr>\n",
              "      <th>count</th>\n",
              "      <td>1460.000000</td>\n",
              "      <td>1460.000000</td>\n",
              "      <td>1201.000000</td>\n",
              "      <td>1460.000000</td>\n",
              "      <td>1460.000000</td>\n",
              "      <td>1460.000000</td>\n",
              "      <td>1460.000000</td>\n",
              "      <td>1460.000000</td>\n",
              "      <td>1452.000000</td>\n",
              "      <td>1460.000000</td>\n",
              "      <td>...</td>\n",
              "      <td>1460.000000</td>\n",
              "      <td>1460.000000</td>\n",
              "      <td>1460.000000</td>\n",
              "      <td>1460.000000</td>\n",
              "      <td>1460.000000</td>\n",
              "      <td>1460.000000</td>\n",
              "      <td>1460.000000</td>\n",
              "      <td>1460.000000</td>\n",
              "      <td>1460.000000</td>\n",
              "      <td>1460.000000</td>\n",
              "    </tr>\n",
              "    <tr>\n",
              "      <th>mean</th>\n",
              "      <td>730.500000</td>\n",
              "      <td>56.897260</td>\n",
              "      <td>70.049958</td>\n",
              "      <td>10516.828082</td>\n",
              "      <td>6.099315</td>\n",
              "      <td>5.575342</td>\n",
              "      <td>1971.267808</td>\n",
              "      <td>1984.865753</td>\n",
              "      <td>103.685262</td>\n",
              "      <td>443.639726</td>\n",
              "      <td>...</td>\n",
              "      <td>94.244521</td>\n",
              "      <td>46.660274</td>\n",
              "      <td>21.954110</td>\n",
              "      <td>3.409589</td>\n",
              "      <td>15.060959</td>\n",
              "      <td>2.758904</td>\n",
              "      <td>43.489041</td>\n",
              "      <td>6.321918</td>\n",
              "      <td>2007.815753</td>\n",
              "      <td>180921.195890</td>\n",
              "    </tr>\n",
              "    <tr>\n",
              "      <th>std</th>\n",
              "      <td>421.610009</td>\n",
              "      <td>42.300571</td>\n",
              "      <td>24.284752</td>\n",
              "      <td>9981.264932</td>\n",
              "      <td>1.382997</td>\n",
              "      <td>1.112799</td>\n",
              "      <td>30.202904</td>\n",
              "      <td>20.645407</td>\n",
              "      <td>181.066207</td>\n",
              "      <td>456.098091</td>\n",
              "      <td>...</td>\n",
              "      <td>125.338794</td>\n",
              "      <td>66.256028</td>\n",
              "      <td>61.119149</td>\n",
              "      <td>29.317331</td>\n",
              "      <td>55.757415</td>\n",
              "      <td>40.177307</td>\n",
              "      <td>496.123024</td>\n",
              "      <td>2.703626</td>\n",
              "      <td>1.328095</td>\n",
              "      <td>79442.502883</td>\n",
              "    </tr>\n",
              "    <tr>\n",
              "      <th>min</th>\n",
              "      <td>1.000000</td>\n",
              "      <td>20.000000</td>\n",
              "      <td>21.000000</td>\n",
              "      <td>1300.000000</td>\n",
              "      <td>1.000000</td>\n",
              "      <td>1.000000</td>\n",
              "      <td>1872.000000</td>\n",
              "      <td>1950.000000</td>\n",
              "      <td>0.000000</td>\n",
              "      <td>0.000000</td>\n",
              "      <td>...</td>\n",
              "      <td>0.000000</td>\n",
              "      <td>0.000000</td>\n",
              "      <td>0.000000</td>\n",
              "      <td>0.000000</td>\n",
              "      <td>0.000000</td>\n",
              "      <td>0.000000</td>\n",
              "      <td>0.000000</td>\n",
              "      <td>1.000000</td>\n",
              "      <td>2006.000000</td>\n",
              "      <td>34900.000000</td>\n",
              "    </tr>\n",
              "    <tr>\n",
              "      <th>25%</th>\n",
              "      <td>365.750000</td>\n",
              "      <td>20.000000</td>\n",
              "      <td>59.000000</td>\n",
              "      <td>7553.500000</td>\n",
              "      <td>5.000000</td>\n",
              "      <td>5.000000</td>\n",
              "      <td>1954.000000</td>\n",
              "      <td>1967.000000</td>\n",
              "      <td>0.000000</td>\n",
              "      <td>0.000000</td>\n",
              "      <td>...</td>\n",
              "      <td>0.000000</td>\n",
              "      <td>0.000000</td>\n",
              "      <td>0.000000</td>\n",
              "      <td>0.000000</td>\n",
              "      <td>0.000000</td>\n",
              "      <td>0.000000</td>\n",
              "      <td>0.000000</td>\n",
              "      <td>5.000000</td>\n",
              "      <td>2007.000000</td>\n",
              "      <td>129975.000000</td>\n",
              "    </tr>\n",
              "    <tr>\n",
              "      <th>50%</th>\n",
              "      <td>730.500000</td>\n",
              "      <td>50.000000</td>\n",
              "      <td>69.000000</td>\n",
              "      <td>9478.500000</td>\n",
              "      <td>6.000000</td>\n",
              "      <td>5.000000</td>\n",
              "      <td>1973.000000</td>\n",
              "      <td>1994.000000</td>\n",
              "      <td>0.000000</td>\n",
              "      <td>383.500000</td>\n",
              "      <td>...</td>\n",
              "      <td>0.000000</td>\n",
              "      <td>25.000000</td>\n",
              "      <td>0.000000</td>\n",
              "      <td>0.000000</td>\n",
              "      <td>0.000000</td>\n",
              "      <td>0.000000</td>\n",
              "      <td>0.000000</td>\n",
              "      <td>6.000000</td>\n",
              "      <td>2008.000000</td>\n",
              "      <td>163000.000000</td>\n",
              "    </tr>\n",
              "    <tr>\n",
              "      <th>75%</th>\n",
              "      <td>1095.250000</td>\n",
              "      <td>70.000000</td>\n",
              "      <td>80.000000</td>\n",
              "      <td>11601.500000</td>\n",
              "      <td>7.000000</td>\n",
              "      <td>6.000000</td>\n",
              "      <td>2000.000000</td>\n",
              "      <td>2004.000000</td>\n",
              "      <td>166.000000</td>\n",
              "      <td>712.250000</td>\n",
              "      <td>...</td>\n",
              "      <td>168.000000</td>\n",
              "      <td>68.000000</td>\n",
              "      <td>0.000000</td>\n",
              "      <td>0.000000</td>\n",
              "      <td>0.000000</td>\n",
              "      <td>0.000000</td>\n",
              "      <td>0.000000</td>\n",
              "      <td>8.000000</td>\n",
              "      <td>2009.000000</td>\n",
              "      <td>214000.000000</td>\n",
              "    </tr>\n",
              "    <tr>\n",
              "      <th>max</th>\n",
              "      <td>1460.000000</td>\n",
              "      <td>190.000000</td>\n",
              "      <td>313.000000</td>\n",
              "      <td>215245.000000</td>\n",
              "      <td>10.000000</td>\n",
              "      <td>9.000000</td>\n",
              "      <td>2010.000000</td>\n",
              "      <td>2010.000000</td>\n",
              "      <td>1600.000000</td>\n",
              "      <td>5644.000000</td>\n",
              "      <td>...</td>\n",
              "      <td>857.000000</td>\n",
              "      <td>547.000000</td>\n",
              "      <td>552.000000</td>\n",
              "      <td>508.000000</td>\n",
              "      <td>480.000000</td>\n",
              "      <td>738.000000</td>\n",
              "      <td>15500.000000</td>\n",
              "      <td>12.000000</td>\n",
              "      <td>2010.000000</td>\n",
              "      <td>755000.000000</td>\n",
              "    </tr>\n",
              "  </tbody>\n",
              "</table>\n",
              "<p>8 rows × 38 columns</p>\n",
              "</div>\n",
              "    <div class=\"colab-df-buttons\">\n",
              "\n",
              "  <div class=\"colab-df-container\">\n",
              "    <button class=\"colab-df-convert\" onclick=\"convertToInteractive('df-bff94a20-1b0b-441b-a140-af292d90ba78')\"\n",
              "            title=\"Convert this dataframe to an interactive table.\"\n",
              "            style=\"display:none;\">\n",
              "\n",
              "  <svg xmlns=\"http://www.w3.org/2000/svg\" height=\"24px\" viewBox=\"0 -960 960 960\">\n",
              "    <path d=\"M120-120v-720h720v720H120Zm60-500h600v-160H180v160Zm220 220h160v-160H400v160Zm0 220h160v-160H400v160ZM180-400h160v-160H180v160Zm440 0h160v-160H620v160ZM180-180h160v-160H180v160Zm440 0h160v-160H620v160Z\"/>\n",
              "  </svg>\n",
              "    </button>\n",
              "\n",
              "  <style>\n",
              "    .colab-df-container {\n",
              "      display:flex;\n",
              "      gap: 12px;\n",
              "    }\n",
              "\n",
              "    .colab-df-convert {\n",
              "      background-color: #E8F0FE;\n",
              "      border: none;\n",
              "      border-radius: 50%;\n",
              "      cursor: pointer;\n",
              "      display: none;\n",
              "      fill: #1967D2;\n",
              "      height: 32px;\n",
              "      padding: 0 0 0 0;\n",
              "      width: 32px;\n",
              "    }\n",
              "\n",
              "    .colab-df-convert:hover {\n",
              "      background-color: #E2EBFA;\n",
              "      box-shadow: 0px 1px 2px rgba(60, 64, 67, 0.3), 0px 1px 3px 1px rgba(60, 64, 67, 0.15);\n",
              "      fill: #174EA6;\n",
              "    }\n",
              "\n",
              "    .colab-df-buttons div {\n",
              "      margin-bottom: 4px;\n",
              "    }\n",
              "\n",
              "    [theme=dark] .colab-df-convert {\n",
              "      background-color: #3B4455;\n",
              "      fill: #D2E3FC;\n",
              "    }\n",
              "\n",
              "    [theme=dark] .colab-df-convert:hover {\n",
              "      background-color: #434B5C;\n",
              "      box-shadow: 0px 1px 3px 1px rgba(0, 0, 0, 0.15);\n",
              "      filter: drop-shadow(0px 1px 2px rgba(0, 0, 0, 0.3));\n",
              "      fill: #FFFFFF;\n",
              "    }\n",
              "  </style>\n",
              "\n",
              "    <script>\n",
              "      const buttonEl =\n",
              "        document.querySelector('#df-bff94a20-1b0b-441b-a140-af292d90ba78 button.colab-df-convert');\n",
              "      buttonEl.style.display =\n",
              "        google.colab.kernel.accessAllowed ? 'block' : 'none';\n",
              "\n",
              "      async function convertToInteractive(key) {\n",
              "        const element = document.querySelector('#df-bff94a20-1b0b-441b-a140-af292d90ba78');\n",
              "        const dataTable =\n",
              "          await google.colab.kernel.invokeFunction('convertToInteractive',\n",
              "                                                    [key], {});\n",
              "        if (!dataTable) return;\n",
              "\n",
              "        const docLinkHtml = 'Like what you see? Visit the ' +\n",
              "          '<a target=\"_blank\" href=https://colab.research.google.com/notebooks/data_table.ipynb>data table notebook</a>'\n",
              "          + ' to learn more about interactive tables.';\n",
              "        element.innerHTML = '';\n",
              "        dataTable['output_type'] = 'display_data';\n",
              "        await google.colab.output.renderOutput(dataTable, element);\n",
              "        const docLink = document.createElement('div');\n",
              "        docLink.innerHTML = docLinkHtml;\n",
              "        element.appendChild(docLink);\n",
              "      }\n",
              "    </script>\n",
              "  </div>\n",
              "\n",
              "\n",
              "    <div id=\"df-d122ccb8-d78f-4b9b-8ad7-e845b9aa2036\">\n",
              "      <button class=\"colab-df-quickchart\" onclick=\"quickchart('df-d122ccb8-d78f-4b9b-8ad7-e845b9aa2036')\"\n",
              "                title=\"Suggest charts\"\n",
              "                style=\"display:none;\">\n",
              "\n",
              "<svg xmlns=\"http://www.w3.org/2000/svg\" height=\"24px\"viewBox=\"0 0 24 24\"\n",
              "     width=\"24px\">\n",
              "    <g>\n",
              "        <path d=\"M19 3H5c-1.1 0-2 .9-2 2v14c0 1.1.9 2 2 2h14c1.1 0 2-.9 2-2V5c0-1.1-.9-2-2-2zM9 17H7v-7h2v7zm4 0h-2V7h2v10zm4 0h-2v-4h2v4z\"/>\n",
              "    </g>\n",
              "</svg>\n",
              "      </button>\n",
              "\n",
              "<style>\n",
              "  .colab-df-quickchart {\n",
              "      --bg-color: #E8F0FE;\n",
              "      --fill-color: #1967D2;\n",
              "      --hover-bg-color: #E2EBFA;\n",
              "      --hover-fill-color: #174EA6;\n",
              "      --disabled-fill-color: #AAA;\n",
              "      --disabled-bg-color: #DDD;\n",
              "  }\n",
              "\n",
              "  [theme=dark] .colab-df-quickchart {\n",
              "      --bg-color: #3B4455;\n",
              "      --fill-color: #D2E3FC;\n",
              "      --hover-bg-color: #434B5C;\n",
              "      --hover-fill-color: #FFFFFF;\n",
              "      --disabled-bg-color: #3B4455;\n",
              "      --disabled-fill-color: #666;\n",
              "  }\n",
              "\n",
              "  .colab-df-quickchart {\n",
              "    background-color: var(--bg-color);\n",
              "    border: none;\n",
              "    border-radius: 50%;\n",
              "    cursor: pointer;\n",
              "    display: none;\n",
              "    fill: var(--fill-color);\n",
              "    height: 32px;\n",
              "    padding: 0;\n",
              "    width: 32px;\n",
              "  }\n",
              "\n",
              "  .colab-df-quickchart:hover {\n",
              "    background-color: var(--hover-bg-color);\n",
              "    box-shadow: 0 1px 2px rgba(60, 64, 67, 0.3), 0 1px 3px 1px rgba(60, 64, 67, 0.15);\n",
              "    fill: var(--button-hover-fill-color);\n",
              "  }\n",
              "\n",
              "  .colab-df-quickchart-complete:disabled,\n",
              "  .colab-df-quickchart-complete:disabled:hover {\n",
              "    background-color: var(--disabled-bg-color);\n",
              "    fill: var(--disabled-fill-color);\n",
              "    box-shadow: none;\n",
              "  }\n",
              "\n",
              "  .colab-df-spinner {\n",
              "    border: 2px solid var(--fill-color);\n",
              "    border-color: transparent;\n",
              "    border-bottom-color: var(--fill-color);\n",
              "    animation:\n",
              "      spin 1s steps(1) infinite;\n",
              "  }\n",
              "\n",
              "  @keyframes spin {\n",
              "    0% {\n",
              "      border-color: transparent;\n",
              "      border-bottom-color: var(--fill-color);\n",
              "      border-left-color: var(--fill-color);\n",
              "    }\n",
              "    20% {\n",
              "      border-color: transparent;\n",
              "      border-left-color: var(--fill-color);\n",
              "      border-top-color: var(--fill-color);\n",
              "    }\n",
              "    30% {\n",
              "      border-color: transparent;\n",
              "      border-left-color: var(--fill-color);\n",
              "      border-top-color: var(--fill-color);\n",
              "      border-right-color: var(--fill-color);\n",
              "    }\n",
              "    40% {\n",
              "      border-color: transparent;\n",
              "      border-right-color: var(--fill-color);\n",
              "      border-top-color: var(--fill-color);\n",
              "    }\n",
              "    60% {\n",
              "      border-color: transparent;\n",
              "      border-right-color: var(--fill-color);\n",
              "    }\n",
              "    80% {\n",
              "      border-color: transparent;\n",
              "      border-right-color: var(--fill-color);\n",
              "      border-bottom-color: var(--fill-color);\n",
              "    }\n",
              "    90% {\n",
              "      border-color: transparent;\n",
              "      border-bottom-color: var(--fill-color);\n",
              "    }\n",
              "  }\n",
              "</style>\n",
              "\n",
              "      <script>\n",
              "        async function quickchart(key) {\n",
              "          const quickchartButtonEl =\n",
              "            document.querySelector('#' + key + ' button');\n",
              "          quickchartButtonEl.disabled = true;  // To prevent multiple clicks.\n",
              "          quickchartButtonEl.classList.add('colab-df-spinner');\n",
              "          try {\n",
              "            const charts = await google.colab.kernel.invokeFunction(\n",
              "                'suggestCharts', [key], {});\n",
              "          } catch (error) {\n",
              "            console.error('Error during call to suggestCharts:', error);\n",
              "          }\n",
              "          quickchartButtonEl.classList.remove('colab-df-spinner');\n",
              "          quickchartButtonEl.classList.add('colab-df-quickchart-complete');\n",
              "        }\n",
              "        (() => {\n",
              "          let quickchartButtonEl =\n",
              "            document.querySelector('#df-d122ccb8-d78f-4b9b-8ad7-e845b9aa2036 button');\n",
              "          quickchartButtonEl.style.display =\n",
              "            google.colab.kernel.accessAllowed ? 'block' : 'none';\n",
              "        })();\n",
              "      </script>\n",
              "    </div>\n",
              "\n",
              "    </div>\n",
              "  </div>\n"
            ],
            "application/vnd.google.colaboratory.intrinsic+json": {
              "type": "dataframe"
            }
          },
          "metadata": {},
          "execution_count": 106
        }
      ]
    },
    {
      "cell_type": "markdown",
      "source": [
        "## **3. Limpieza avanzada de datos**\n",
        "\n"
      ],
      "metadata": {
        "id": "TTgKz4WNC0Kv"
      }
    },
    {
      "cell_type": "markdown",
      "source": [
        "**3.1 Detección de valores faltantes**"
      ],
      "metadata": {
        "id": "ZEFBQiXQDHNc"
      }
    },
    {
      "cell_type": "code",
      "execution_count": null,
      "metadata": {
        "id": "HtNLxtssAvey",
        "colab": {
          "base_uri": "https://localhost:8080/",
          "height": 680
        },
        "outputId": "5e4f5d79-d5dc-4a15-d2cb-c98392b39658"
      },
      "outputs": [
        {
          "output_type": "execute_result",
          "data": {
            "text/plain": [
              "PoolQC          1453\n",
              "MiscFeature     1406\n",
              "Alley           1369\n",
              "Fence           1179\n",
              "MasVnrType       872\n",
              "FireplaceQu      690\n",
              "LotFrontage      259\n",
              "GarageType        81\n",
              "GarageYrBlt       81\n",
              "GarageFinish      81\n",
              "GarageQual        81\n",
              "GarageCond        81\n",
              "BsmtExposure      38\n",
              "BsmtFinType2      38\n",
              "BsmtQual          37\n",
              "BsmtCond          37\n",
              "BsmtFinType1      37\n",
              "MasVnrArea         8\n",
              "Electrical         1\n",
              "dtype: int64"
            ],
            "text/html": [
              "<div>\n",
              "<style scoped>\n",
              "    .dataframe tbody tr th:only-of-type {\n",
              "        vertical-align: middle;\n",
              "    }\n",
              "\n",
              "    .dataframe tbody tr th {\n",
              "        vertical-align: top;\n",
              "    }\n",
              "\n",
              "    .dataframe thead th {\n",
              "        text-align: right;\n",
              "    }\n",
              "</style>\n",
              "<table border=\"1\" class=\"dataframe\">\n",
              "  <thead>\n",
              "    <tr style=\"text-align: right;\">\n",
              "      <th></th>\n",
              "      <th>0</th>\n",
              "    </tr>\n",
              "  </thead>\n",
              "  <tbody>\n",
              "    <tr>\n",
              "      <th>PoolQC</th>\n",
              "      <td>1453</td>\n",
              "    </tr>\n",
              "    <tr>\n",
              "      <th>MiscFeature</th>\n",
              "      <td>1406</td>\n",
              "    </tr>\n",
              "    <tr>\n",
              "      <th>Alley</th>\n",
              "      <td>1369</td>\n",
              "    </tr>\n",
              "    <tr>\n",
              "      <th>Fence</th>\n",
              "      <td>1179</td>\n",
              "    </tr>\n",
              "    <tr>\n",
              "      <th>MasVnrType</th>\n",
              "      <td>872</td>\n",
              "    </tr>\n",
              "    <tr>\n",
              "      <th>FireplaceQu</th>\n",
              "      <td>690</td>\n",
              "    </tr>\n",
              "    <tr>\n",
              "      <th>LotFrontage</th>\n",
              "      <td>259</td>\n",
              "    </tr>\n",
              "    <tr>\n",
              "      <th>GarageType</th>\n",
              "      <td>81</td>\n",
              "    </tr>\n",
              "    <tr>\n",
              "      <th>GarageYrBlt</th>\n",
              "      <td>81</td>\n",
              "    </tr>\n",
              "    <tr>\n",
              "      <th>GarageFinish</th>\n",
              "      <td>81</td>\n",
              "    </tr>\n",
              "    <tr>\n",
              "      <th>GarageQual</th>\n",
              "      <td>81</td>\n",
              "    </tr>\n",
              "    <tr>\n",
              "      <th>GarageCond</th>\n",
              "      <td>81</td>\n",
              "    </tr>\n",
              "    <tr>\n",
              "      <th>BsmtExposure</th>\n",
              "      <td>38</td>\n",
              "    </tr>\n",
              "    <tr>\n",
              "      <th>BsmtFinType2</th>\n",
              "      <td>38</td>\n",
              "    </tr>\n",
              "    <tr>\n",
              "      <th>BsmtQual</th>\n",
              "      <td>37</td>\n",
              "    </tr>\n",
              "    <tr>\n",
              "      <th>BsmtCond</th>\n",
              "      <td>37</td>\n",
              "    </tr>\n",
              "    <tr>\n",
              "      <th>BsmtFinType1</th>\n",
              "      <td>37</td>\n",
              "    </tr>\n",
              "    <tr>\n",
              "      <th>MasVnrArea</th>\n",
              "      <td>8</td>\n",
              "    </tr>\n",
              "    <tr>\n",
              "      <th>Electrical</th>\n",
              "      <td>1</td>\n",
              "    </tr>\n",
              "  </tbody>\n",
              "</table>\n",
              "</div><br><label><b>dtype:</b> int64</label>"
            ]
          },
          "metadata": {},
          "execution_count": 107
        }
      ],
      "source": [
        "missing = df.isnull().sum()\n",
        "missing[missing > 0].sort_values(ascending=False)\n"
      ]
    },
    {
      "cell_type": "markdown",
      "source": [
        "Aquí detectamos columnas con valores faltantes. Algunos datasets codifican los nulos como “NA” o “0” en lugar de NaN, por lo que también conviene revisar valores únicos por columna."
      ],
      "metadata": {
        "id": "JxTNcqo_C9iI"
      }
    },
    {
      "cell_type": "markdown",
      "source": [
        "**3.2 Imputación de valores**\n"
      ],
      "metadata": {
        "id": "66n7h24zDKe4"
      }
    },
    {
      "cell_type": "markdown",
      "source": [
        "\n",
        "Numéricos – usando la mediana para evitar el efecto de outliers:"
      ],
      "metadata": {
        "id": "nIprea6NDBHL"
      }
    },
    {
      "cell_type": "code",
      "source": [
        "from sklearn.impute import SimpleImputer\n",
        "\n",
        "# Imputador numérico usando la mediana\n",
        "num_imputer = SimpleImputer(strategy='median')\n",
        "df['LotFrontage'] = num_imputer.fit_transform(df[['LotFrontage']])"
      ],
      "metadata": {
        "id": "pbVBUu1tCvCQ"
      },
      "execution_count": null,
      "outputs": []
    },
    {
      "cell_type": "markdown",
      "source": [
        "Categóricos – usando la moda o creando una categoría “Missing”:"
      ],
      "metadata": {
        "id": "-rJdZsnVDOL7"
      }
    },
    {
      "cell_type": "code",
      "metadata": {
        "colab": {
          "base_uri": "https://localhost:8080/"
        },
        "outputId": "44829bf6-f62b-4e99-d2e7-2cd0fe18f10b",
        "id": "NZ11nDewcEKO"
      },
      "source": [
        "from sklearn.impute import SimpleImputer\n",
        "import numpy as np\n",
        "\n",
        "# Usar pandas fillna para imputar con la moda\n",
        "most_frequent_masvnrtype = df['MasVnrType'].mode()[0]\n",
        "df['MasVnrType'] = df['MasVnrType'].fillna(most_frequent_masvnrtype)\n",
        "\n",
        "# Verificar valores faltantes restantes en 'MasVnrType'\n",
        "print(\"Valores faltantes en 'MasVnrType' después de la imputación:\", df['MasVnrType'].isnull().sum())"
      ],
      "execution_count": null,
      "outputs": [
        {
          "output_type": "stream",
          "name": "stdout",
          "text": [
            "Valores faltantes en 'MasVnrType' después de la imputación: 0\n"
          ]
        }
      ]
    },
    {
      "cell_type": "markdown",
      "source": [
        "> Usar media puede distorsionar si hay valores extremos.\n",
        ">\n",
        "> Usar mediana es más robusto frente a outliers.\n",
        ">\n",
        "> Para categóricos, asignar “Missing” puede conservar la información de que el valor no estaba registrado."
      ],
      "metadata": {
        "id": "i0TkrgnDDWr5"
      }
    },
    {
      "cell_type": "markdown",
      "source": [
        "**3.3 Corrección de inconsistencias de formato**"
      ],
      "metadata": {
        "id": "mY_cEiuNDfcr"
      }
    },
    {
      "cell_type": "code",
      "source": [
        "# Eliminar espacios en blanco y capitalizar la primera letra de cada palabra\n",
        "df['Neighborhood'] = df['Neighborhood'].str.strip().str.title()"
      ],
      "metadata": {
        "id": "aPSmvVHtDUYg"
      },
      "execution_count": null,
      "outputs": []
    },
    {
      "cell_type": "markdown",
      "source": [
        "Esto asegura consistencia en mayúsculas/minúsculas y elimina espacios extra.\n",
        "\n"
      ],
      "metadata": {
        "id": "DPY9UG5oDks2"
      }
    },
    {
      "cell_type": "markdown",
      "source": [
        "**3.4 Duplicados exactos y casi-duplicados**\n"
      ],
      "metadata": {
        "id": "4W40xJkoDmj8"
      }
    },
    {
      "cell_type": "code",
      "source": [
        "# Eliminar duplicados exactos\n",
        "df.drop_duplicates(inplace=True)"
      ],
      "metadata": {
        "id": "7AAgA-A4Dkcn"
      },
      "execution_count": null,
      "outputs": []
    },
    {
      "cell_type": "markdown",
      "source": [
        "**3.5 Outliers**"
      ],
      "metadata": {
        "id": "xAL1dqFiEO0B"
      }
    },
    {
      "cell_type": "markdown",
      "source": [
        "Usaremos el rango intercuartílico (IQR):"
      ],
      "metadata": {
        "id": "uHaN-8amERsN"
      }
    },
    {
      "cell_type": "code",
      "source": [
        "# Calcular el primer cuartil (Q1) y el tercer cuartil (Q3)\n",
        "Q1 = df['SalePrice'].quantile(0.25)\n",
        "Q3 = df['SalePrice'].quantile(0.75)\n",
        "# Calcular el Rango Intercuartílico (IQR)\n",
        "IQR = Q3 - Q1\n",
        "\n",
        "# Identificar outliers usando la regla de 1.5 * IQR\n",
        "outliers = df[(df['SalePrice'] < Q1 - 1.5*IQR) | (df['SalePrice'] > Q3 + 1.5*IQR)]\n",
        "outliers.shape"
      ],
      "metadata": {
        "id": "W2wwDlVvEVj4",
        "colab": {
          "base_uri": "https://localhost:8080/"
        },
        "outputId": "8d1b161a-226c-447d-bc46-52740c6a11f4"
      },
      "execution_count": null,
      "outputs": [
        {
          "output_type": "execute_result",
          "data": {
            "text/plain": [
              "(61, 81)"
            ]
          },
          "metadata": {},
          "execution_count": 112
        }
      ]
    },
    {
      "cell_type": "markdown",
      "source": [
        "Outliers detectados no siempre deben eliminarse: en precios de casas, un valor alto puede ser legítimo."
      ],
      "metadata": {
        "id": "kfHi2WNVEYFC"
      }
    },
    {
      "cell_type": "markdown",
      "source": [
        "## **4. Codificación de variables categóricas**"
      ],
      "metadata": {
        "id": "IGN_visEEaf-"
      }
    },
    {
      "cell_type": "markdown",
      "source": [
        "**4.1 One-Hot Encoding**"
      ],
      "metadata": {
        "id": "v_GifVYaEeuo"
      }
    },
    {
      "cell_type": "markdown",
      "source": [
        "Convierte categorías en columnas binarias."
      ],
      "metadata": {
        "id": "CKd5XhjsEiT2"
      }
    },
    {
      "cell_type": "code",
      "source": [
        "# Aplicar One-Hot Encoding a la columna 'Neighborhood', eliminando la primera categoría para evitar la multicolinealidad\n",
        "df = pd.get_dummies(df, columns=['Neighborhood'], drop_first=True)"
      ],
      "metadata": {
        "id": "Sfuj70K8EXy1"
      },
      "execution_count": null,
      "outputs": []
    },
    {
      "cell_type": "markdown",
      "source": [
        "**4.2 Label Encoding**"
      ],
      "metadata": {
        "id": "uY7pEbOuEmP5"
      }
    },
    {
      "cell_type": "markdown",
      "source": [
        "Asigna un número entero a cada categoría (útil para variables ordinales)."
      ],
      "metadata": {
        "id": "K-gJoSiDEqJ-"
      }
    },
    {
      "cell_type": "code",
      "source": [
        "from sklearn.preprocessing import LabelEncoder\n",
        "\n",
        "# Inicializar LabelEncoder\n",
        "le = LabelEncoder()\n",
        "# Aplicar Label Encoding a la columna 'Street'\n",
        "df['Street'] = le.fit_transform(df['Street'])"
      ],
      "metadata": {
        "id": "RejiPc_pEtje"
      },
      "execution_count": null,
      "outputs": []
    },
    {
      "cell_type": "markdown",
      "source": [
        "**4.3 Target Encoding (avanzado, riesgo de data leakage)**"
      ],
      "metadata": {
        "id": "Rhd3IKs_Evk8"
      }
    },
    {
      "cell_type": "code",
      "source": [
        "import category_encoders as ce\n",
        "\n",
        "# Inicializar TargetEncoder para la columna 'MSZoning'\n",
        "te = ce.TargetEncoder(cols=['MSZoning'])\n",
        "# Aplicar Target Encoding\n",
        "df['MSZoning'] = te.fit_transform(df['MSZoning'], df['SalePrice'])"
      ],
      "metadata": {
        "id": "7hdJHoaKFCZf"
      },
      "execution_count": null,
      "outputs": []
    },
    {
      "cell_type": "markdown",
      "source": [
        "## **5. Discretización de variables continuas**"
      ],
      "metadata": {
        "id": "X0ab3bcnFAvD"
      }
    },
    {
      "cell_type": "markdown",
      "source": [
        "Reduce una variable continua a intervalos o “bins”."
      ],
      "metadata": {
        "id": "ewKvr5H6FNm4"
      }
    },
    {
      "cell_type": "code",
      "source": [
        "from sklearn.preprocessing import KBinsDiscretizer\n",
        "\n",
        "# Inicializar KBinsDiscretizer con 4 bins, codificación ordinal y estrategia de cuantiles\n",
        "kb = KBinsDiscretizer(n_bins=4, encode='ordinal', strategy='quantile')\n",
        "# Aplicar discretización a 'SalePrice' y crear una nueva columna\n",
        "df['SalePrice_bin'] = kb.fit_transform(df[['SalePrice']])"
      ],
      "metadata": {
        "id": "shmTS8BYFPrB"
      },
      "execution_count": null,
      "outputs": []
    },
    {
      "cell_type": "markdown",
      "source": [
        "Útil cuando queremos reducir la sensibilidad del modelo a variaciones pequeñas o cuando la variable tiene relación no lineal con la respuesta."
      ],
      "metadata": {
        "id": "tshixIFrFR0U"
      }
    },
    {
      "cell_type": "markdown",
      "source": [
        "## **6. Transformaciones numéricas avanzadas**\n"
      ],
      "metadata": {
        "id": "vYwqUX1MFX-W"
      }
    },
    {
      "cell_type": "markdown",
      "source": [
        "**6.1 Transformación logarítmica**\n"
      ],
      "metadata": {
        "id": "GJJz4adNFevl"
      }
    },
    {
      "cell_type": "markdown",
      "source": [
        "Reduce asimetría en variables sesgadas a la derecha."
      ],
      "metadata": {
        "id": "woGSnf5HFhCk"
      }
    },
    {
      "cell_type": "code",
      "source": [
        "import numpy as np\n",
        "# Aplicar transformación logarítmica (log(1+x)) a 'SalePrice'\n",
        "df['SalePrice_log'] = np.log1p(df['SalePrice'])"
      ],
      "metadata": {
        "id": "VSRezZDPFT4T"
      },
      "execution_count": null,
      "outputs": []
    },
    {
      "cell_type": "markdown",
      "source": [
        "**6.2 Min–Max Scaling**"
      ],
      "metadata": {
        "id": "IaOe8H9BFlGV"
      }
    },
    {
      "cell_type": "markdown",
      "source": [
        "Escala los valores a un rango fijo [0, 1]."
      ],
      "metadata": {
        "id": "hDibuBr-FoH2"
      }
    },
    {
      "cell_type": "code",
      "source": [
        "from sklearn.preprocessing import MinMaxScaler\n",
        "\n",
        "# Inicializar MinMaxScaler\n",
        "mm_scaler = MinMaxScaler()\n",
        "# Aplicar Min-Max Scaling a 'LotArea' y 'GrLivArea'\n",
        "df[['LotArea_mm', 'GrLivArea_mm']] = mm_scaler.fit_transform(df[['LotArea', 'GrLivArea']])"
      ],
      "metadata": {
        "id": "nmzuSlhtFqJ6"
      },
      "execution_count": null,
      "outputs": []
    },
    {
      "cell_type": "markdown",
      "source": [
        "**6.3 Z-score Standardization**"
      ],
      "metadata": {
        "id": "5Q5H-DXqFsWW"
      }
    },
    {
      "cell_type": "markdown",
      "source": [
        "Centra en media 0 y desv. estándar 1."
      ],
      "metadata": {
        "id": "9KvUsWuyF35x"
      }
    },
    {
      "cell_type": "code",
      "source": [
        "from sklearn.preprocessing import StandardScaler\n",
        "\n",
        "# Inicializar StandardScaler\n",
        "scaler = StandardScaler()\n",
        "# Aplicar Z-score Standardization a 'LotArea' y 'GrLivArea'\n",
        "df[['LotArea_z', 'GrLivArea_z']] = scaler.fit_transform(df[['LotArea', 'GrLivArea']])"
      ],
      "metadata": {
        "id": "MRPwT2naF6MY"
      },
      "execution_count": null,
      "outputs": []
    },
    {
      "cell_type": "markdown",
      "source": [
        "**6.4 Transformaciones polinómicas**"
      ],
      "metadata": {
        "id": "jKK36L3iF_OS"
      }
    },
    {
      "cell_type": "markdown",
      "source": [
        "Genera nuevas variables como combinaciones polinómicas de las existentes."
      ],
      "metadata": {
        "id": "z0mIWmOWGCA0"
      }
    },
    {
      "cell_type": "code",
      "source": [
        "from sklearn.preprocessing import PolynomialFeatures\n",
        "\n",
        "# Inicializar PolynomialFeatures con grado 2, sin incluir el término de sesgo\n",
        "poly = PolynomialFeatures(degree=2, include_bias=False)\n",
        "# Generar características polinómicas para 'GrLivArea' y 'LotArea'\n",
        "poly_features = poly.fit_transform(df[['GrLivArea', 'LotArea']])\n",
        "# Crear un DataFrame con las características polinómicas y nombres de columnas\n",
        "poly_df = pd.DataFrame(poly_features, columns=poly.get_feature_names_out(['GrLivArea', 'LotArea']))\n",
        "\n",
        "# Concatenar el DataFrame original con el DataFrame de características polinómicas\n",
        "df = pd.concat([df, poly_df], axis=1)"
      ],
      "metadata": {
        "id": "SfLO7bNfGETN"
      },
      "execution_count": null,
      "outputs": []
    },
    {
      "cell_type": "markdown",
      "source": [
        "Útil para modelos lineales que no capturan interacciones o curvaturas de forma natural. Ojo: puede aumentar mucho la dimensionalidad."
      ],
      "metadata": {
        "id": "Ug8NmBR7GIhR"
      }
    },
    {
      "cell_type": "markdown",
      "source": [
        "## **7. Evaluación visual del impacto**\n"
      ],
      "metadata": {
        "id": "Do3Bbc7OGMCz"
      }
    },
    {
      "cell_type": "code",
      "source": [
        "import matplotlib.pyplot as plt\n",
        "import seaborn as sns\n",
        "\n",
        "# Crear una figura con dos subplots\n",
        "fig, axes = plt.subplots(1, 2, figsize=(12,5))\n",
        "# Histograma de 'SalePrice' original\n",
        "sns.histplot(df['SalePrice'], ax=axes[0], kde=True)\n",
        "axes[0].set_title(\"SalePrice Original\")\n",
        "# Histograma de 'SalePrice' con transformación logarítmica\n",
        "sns.histplot(df['SalePrice_log'], ax=axes[1], kde=True)\n",
        "axes[1].set_title(\"SalePrice con Transformación Logarítmica\")\n",
        "# Mostrar los plots\n",
        "plt.show()"
      ],
      "metadata": {
        "id": "lnQOCzgdGRXV",
        "colab": {
          "base_uri": "https://localhost:8080/",
          "height": 488
        },
        "outputId": "6689ad32-6809-4adb-b034-5222450b3c69"
      },
      "execution_count": null,
      "outputs": [
        {
          "output_type": "display_data",
          "data": {
            "text/plain": [
              "<Figure size 1200x500 with 2 Axes>"
            ],
            "image/png": "[encoded data removed]"
          },
          "metadata": {}
        }
      ]
    },
    {
      "cell_type": "markdown",
      "source": [
        "## **Tarea**"
      ],
      "metadata": {
        "id": "WG27vB60GTUw"
      }
    },
    {
      "cell_type": "markdown",
      "source": [
        "- Identificar y corregir inconsistencias en otra columna categórica.\n",
        "\n",
        "- Imputar una variable numérica usando media, mediana y KNN, y comparar resultados.\n",
        "\n",
        "- Comparar One-Hot Encoding vs. Target Encoding en términos de número de columnas y posible overfitting.\n",
        "\n",
        "- Discretizar LotArea usando equal-width binning.\n",
        "\n",
        "- Generar transformaciones polinómicas de grado 3 para tres variables numéricas y evaluar cuántas columnas nuevas produce."
      ],
      "metadata": {
        "id": "eaZrVgTVGXFl"
      }
    },
    {
      "cell_type": "markdown",
      "source": [
        "# **RESOLUCIÓN DE TAREA:**"
      ],
      "metadata": {
        "id": "EZl3Mdj7c2n8"
      }
    },
    {
      "cell_type": "markdown",
      "source": [
        "\n",
        "\n",
        "*   **Identificar y corregir inconsistencias en otra columna categórica**\n",
        "\n",
        "\n"
      ],
      "metadata": {
        "id": "rpLvJfHVdHUW"
      }
    },
    {
      "cell_type": "code",
      "metadata": {
        "colab": {
          "base_uri": "https://localhost:8080/"
        },
        "outputId": "126fd1c1-f430-497f-b6a8-c87b1d776636",
        "id": "TvjedLrvdmiu"
      },
      "source": [
        "# Identificar valores únicos en 'Exterior1st' antes de la corrección\n",
        "print(\"Valores únicos en 'Exterior1st' antes de la corrección:\", df['Exterior1st'].unique())\n",
        "\n",
        "# Corregir inconsistencias eliminando espacios en blanco y capitalizando\n",
        "df['Exterior1st'] = df['Exterior1st'].str.strip().str.title()\n",
        "\n",
        "# Verificar valores únicos después de la corrección\n",
        "print(\"Valores únicos en 'Exterior1st' después de la corrección:\", df['Exterior1st'].unique())"
      ],
      "execution_count": null,
      "outputs": [
        {
          "output_type": "stream",
          "name": "stdout",
          "text": [
            "Valores únicos en 'Exterior1st' antes de la corrección: ['VinylSd' 'MetalSd' 'Wd Sdng' 'HdBoard' 'BrkFace' 'WdShing' 'CemntBd'\n",
            " 'Plywood' 'AsbShng' 'Stucco' 'BrkComm' 'AsphShn' 'Stone' 'ImStucc'\n",
            " 'CBlock']\n",
            "Valores únicos en 'Exterior1st' después de la corrección: ['Vinylsd' 'Metalsd' 'Wd Sdng' 'Hdboard' 'Brkface' 'Wdshing' 'Cemntbd'\n",
            " 'Plywood' 'Asbshng' 'Stucco' 'Brkcomm' 'Asphshn' 'Stone' 'Imstucc'\n",
            " 'Cblock']\n"
          ]
        }
      ]
    },
    {
      "cell_type": "markdown",
      "source": [
        "\n",
        "\n",
        "*   **Imputar una variable numérica usando media, mediana y KNN, y comparar resultados**\n",
        "\n"
      ],
      "metadata": {
        "id": "eOXRVIpHdvT8"
      }
    },
    {
      "cell_type": "code",
      "source": [
        "import pandas as pd\n",
        "import numpy as np\n",
        "from sklearn.impute import KNNImputer\n",
        "from sklearn.preprocessing import StandardScaler\n",
        "import matplotlib.pyplot as plt\n",
        "\n",
        "# 1. Cargar datos\n",
        "data = pd.read_csv('train.csv')\n",
        "\n",
        "# 2. Identificar variables numéricas con valores faltantes\n",
        "numeric_cols = data.select_dtypes(include=[np.number]).columns\n",
        "missing_numeric = data[numeric_cols].isna().sum()\n",
        "missing_numeric = missing_numeric[missing_numeric > 0]\n",
        "print(\"Variables numéricas con valores faltantes:\")\n",
        "print(missing_numeric)\n",
        "\n",
        "# 3. Seleccionar variable para imputación (ej. LotFrontage)\n",
        "target_col = 'LotFrontage'\n",
        "original_data = data[target_col].copy()\n",
        "print(f\"\\nValores faltantes en {target_col}: {original_data.isna().sum()}\")\n",
        "\n",
        "# 4. Métodos de imputación\n",
        "# 4.1 Media\n",
        "mean_imputed = data[target_col].fillna(data[target_col].mean())\n",
        "\n",
        "# 4.2 Mediana\n",
        "median_imputed = data[target_col].fillna(data[target_col].median())\n",
        "\n",
        "# 4.3 KNN\n",
        "# Escalar datos\n",
        "scaler = StandardScaler()\n",
        "scaled_data = scaler.fit_transform(data[numeric_cols])\n",
        "\n",
        "# Aplicar KNNImputer\n",
        "knn_imputer = KNNImputer(n_neighbors=5)\n",
        "knn_imputed_data = knn_imputer.fit_transform(scaled_data)\n",
        "\n",
        "# Recuperar valores imputados\n",
        "col_index = list(numeric_cols).index(target_col)\n",
        "knn_imputed = knn_imputed_data[:, col_index]\n",
        "\n",
        "# Escalar de vuelta\n",
        "knn_imputed = scaler.inverse_transform(\n",
        "    np.column_stack([knn_imputed if i == col_index else scaled_data[:, i]\n",
        "                    for i in range(scaled_data.shape[1])])\n",
        ")[:, col_index]\n",
        "knn_imputed = pd.Series(knn_imputed, index=data.index)\n",
        "\n",
        "# 5. Comparación\n",
        "comparison = pd.DataFrame({\n",
        "    'Original': original_data,\n",
        "    'Media': mean_imputed,\n",
        "    'Mediana': median_imputed,\n",
        "    'KNN': knn_imputed\n",
        "})\n",
        "\n",
        "print(\"\\nEstadísticas descriptivas después de imputación:\")\n",
        "print(comparison.describe())\n",
        "\n",
        "# Visualización\n",
        "plt.figure(figsize=(12, 6))\n",
        "\n",
        "# Histogramas\n",
        "plt.subplot(1, 2, 1)\n",
        "plt.hist(original_data.dropna(), bins=30, alpha=0.5, label='Original (sin NA)')\n",
        "plt.hist(mean_imputed, bins=30, alpha=0.5, label='Media')\n",
        "plt.hist(median_imputed, bins=30, alpha=0.5, label='Mediana')\n",
        "plt.hist(knn_imputed, bins=30, alpha=0.5, label='KNN')\n",
        "plt.title('Distribución después de imputación')\n",
        "plt.legend()\n",
        "\n",
        "# Boxplots\n",
        "plt.subplot(1, 2, 2)\n",
        "comparison.boxplot()\n",
        "plt.title('Comparación de métodos de imputación')\n",
        "plt.xticks(rotation=45)\n",
        "\n",
        "plt.tight_layout()\n",
        "plt.show()"
      ],
      "metadata": {
        "colab": {
          "base_uri": "https://localhost:8080/",
          "height": 919
        },
        "id": "HypzAPD-nIbD",
        "outputId": "010e5794-c07b-4cba-f04c-6f1995fe8b28"
      },
      "execution_count": null,
      "outputs": [
        {
          "output_type": "stream",
          "name": "stdout",
          "text": [
            "Variables numéricas con valores faltantes:\n",
            "LotFrontage    259\n",
            "MasVnrArea       8\n",
            "GarageYrBlt     81\n",
            "dtype: int64\n",
            "\n",
            "Valores faltantes en LotFrontage: 259\n",
            "\n",
            "Estadísticas descriptivas después de imputación:\n",
            "          Original        Media      Mediana          KNN\n",
            "count  1201.000000  1460.000000  1460.000000  1460.000000\n",
            "mean     70.049958    70.049958    69.863699    70.155890\n",
            "std      24.284752    22.024023    22.027677    22.743551\n",
            "min      21.000000    21.000000    21.000000    21.000000\n",
            "25%      59.000000    60.000000    60.000000    60.000000\n",
            "50%      69.000000    70.049958    69.000000    70.000000\n",
            "75%      80.000000    79.000000    79.000000    80.000000\n",
            "max     313.000000   313.000000   313.000000   313.000000\n"
          ]
        },
        {
          "output_type": "display_data",
          "data": {
            "text/plain": [
              "<Figure size 1200x600 with 2 Axes>"
            ],
            "image/png": "[encoded data removed]"
          },
          "metadata": {}
        }
      ]
    },
    {
      "cell_type": "markdown",
      "metadata": {
        "id": "2991fdf9"
      },
      "source": [
        "*   **Comparar One-Hot Encoding vs. Target Encoding en términos de número de columnas y posible overfitting.**"
      ]
    },
    {
      "cell_type": "code",
      "metadata": {
        "colab": {
          "base_uri": "https://localhost:8080/"
        },
        "id": "311df6f8",
        "outputId": "14c350f6-f2a7-4e11-b846-397e01783afe"
      },
      "source": [
        "import pandas as pd\n",
        "import category_encoders as ce\n",
        "\n",
        "# Crear una copia fresca del dataframe para esta comparación\n",
        "df_encoding_comparison = pd.read_csv('train.csv')\n",
        "\n",
        "# One-Hot Encoding en 'Neighborhood'\n",
        "df_one_hot = pd.get_dummies(df_encoding_comparison, columns=['Neighborhood'], drop_first=True)\n",
        "print(f\"Número de columnas después de One-Hot Encoding en 'Neighborhood': {df_one_hot.shape[1]}\")\n",
        "\n",
        "# Target Encoding en 'Neighborhood'\n",
        "# Es necesario manejar los posibles valores faltantes en 'SalePrice' para Target Encoding si los hubiera\n",
        "# (aunque en este dataset 'SalePrice' no tiene valores faltantes)\n",
        "te = ce.TargetEncoder(cols=['Neighborhood'])\n",
        "df_target_encoded = te.fit_transform(df_encoding_comparison['Neighborhood'], df_encoding_comparison['SalePrice'])\n",
        "print(f\"Número de columnas después de Target Encoding en 'Neighborhood': {df_target_encoded.shape[1]}\")\n",
        "\n",
        "# Discusión sobre overfitting\n",
        "print(\"\\nComparación:\")\n",
        "print(\"One-Hot Encoding crea una nueva columna binaria para cada categoría (menos una si drop_first=True), aumentando significativamente la dimensionalidad para características con alta cardinalidad.\")\n",
        "print(\"Target Encoding reemplaza la categoría por la media de la variable objetivo para esa categoría. Crea solo una nueva columna.\")\n",
        "print(\"\\nRiesgo de Overfitting:\")\n",
        "print(\"One-Hot Encoding puede llevar a un número muy alto de características (alta dimensionalidad), lo que puede aumentar el riesgo de overfitting, especialmente con datos limitados.\")\n",
        "print(\"Target Encoding también puede llevar a overfitting, particularmente si una categoría aparece solo unas pocas veces en los datos de entrenamiento. El valor codificado para esa categoría estará fuertemente influenciado por esos pocos puntos de datos. A menudo se utilizan técnicas de validación cruzada o suavizado con Target Encoding para mitigar este riesgo.\")"
      ],
      "execution_count": null,
      "outputs": [
        {
          "output_type": "stream",
          "name": "stdout",
          "text": [
            "Número de columnas después de One-Hot Encoding en 'Neighborhood': 104\n",
            "Número de columnas después de Target Encoding en 'Neighborhood': 1\n",
            "\n",
            "Comparación:\n",
            "One-Hot Encoding crea una nueva columna binaria para cada categoría (menos una si drop_first=True), aumentando significativamente la dimensionalidad para características con alta cardinalidad.\n",
            "Target Encoding reemplaza la categoría por la media de la variable objetivo para esa categoría. Crea solo una nueva columna.\n",
            "\n",
            "Riesgo de Overfitting:\n",
            "One-Hot Encoding puede llevar a un número muy alto de características (alta dimensionalidad), lo que puede aumentar el riesgo de overfitting, especialmente con datos limitados.\n",
            "Target Encoding también puede llevar a overfitting, particularmente si una categoría aparece solo unas pocas veces en los datos de entrenamiento. El valor codificado para esa categoría estará fuertemente influenciado por esos pocos puntos de datos. A menudo se utilizan técnicas de validación cruzada o suavizado con Target Encoding para mitigar este riesgo.\n"
          ]
        }
      ]
    },
    {
      "cell_type": "markdown",
      "metadata": {
        "id": "2f817b36"
      },
      "source": [
        "*   **Discretizar LotArea usando equal-width binning**"
      ]
    },
    {
      "cell_type": "code",
      "source": [
        "import pandas as pd\n",
        "import numpy as np\n",
        "\n",
        "# Extraer la columna LotArea\n",
        "lot_area = df['LotArea']\n",
        "\n",
        "# Configurar el número de bins deseado (por ejemplo, 5 bins)\n",
        "num_bins = 5\n",
        "\n",
        "# Calcular los límites de los bins usando equal-width binning\n",
        "min_val = lot_area.min()\n",
        "max_val = lot_area.max()\n",
        "bin_width = (max_val - min_val) / num_bins\n",
        "\n",
        "# Crear los límites de los bins\n",
        "bins = [min_val + i * bin_width for i in range(num_bins + 1)]\n",
        "\n",
        "# Etiquetas para los bins\n",
        "labels = [f'Bin {i+1} ({int(bins[i])}-{int(bins[i+1])})' for i in range(num_bins)]\n",
        "\n",
        "# Discretizar los datos\n",
        "df['LotArea_Binned'] = pd.cut(lot_area, bins=bins, labels=labels, include_lowest=True)\n",
        "\n",
        "# Mostrar los primeros registros para verificar\n",
        "print(df[['LotArea', 'LotArea_Binned']].head())\n",
        "\n",
        "# Mostrar el conteo de valores en cada bin\n",
        "print(\"\\nConteo por bin:\")\n",
        "print(df['LotArea_Binned'].value_counts().sort_index())"
      ],
      "metadata": {
        "colab": {
          "base_uri": "https://localhost:8080/"
        },
        "id": "0D3Xlw9EoFVX",
        "outputId": "227a2814-d4d0-476a-e7af-313cc529d77b"
      },
      "execution_count": null,
      "outputs": [
        {
          "output_type": "stream",
          "name": "stdout",
          "text": [
            "   LotArea      LotArea_Binned\n",
            "0     8450  Bin 1 (1300-44089)\n",
            "1     9600  Bin 1 (1300-44089)\n",
            "2    11250  Bin 1 (1300-44089)\n",
            "3     9550  Bin 1 (1300-44089)\n",
            "4    14260  Bin 1 (1300-44089)\n",
            "\n",
            "Conteo por bin:\n",
            "LotArea_Binned\n",
            "Bin 1 (1300-44089)       1447\n",
            "Bin 2 (44089-86878)         9\n",
            "Bin 3 (86878-129667)        1\n",
            "Bin 4 (129667-172456)       2\n",
            "Bin 5 (172456-215245)       1\n",
            "Name: count, dtype: int64\n"
          ]
        }
      ]
    },
    {
      "cell_type": "markdown",
      "metadata": {
        "id": "9498b073"
      },
      "source": [
        "*   **Generar transformaciones polinómicas de grado 3 para tres variables numéricas y evaluar cuántas columnas nuevas produce.**"
      ]
    },
    {
      "cell_type": "code",
      "source": [
        "import pandas as pd\n",
        "from sklearn.preprocessing import PolynomialFeatures\n",
        "\n",
        "# Cargar los datos\n",
        "data = pd.read_csv('train.csv')\n",
        "\n",
        "# Seleccionar tres variables numéricas (por ejemplo: 'LotArea', 'GrLivArea', 'TotalBsmtSF')\n",
        "numeric_vars = ['LotArea', 'GrLivArea', 'TotalBsmtSF']\n",
        "X = data[numeric_vars].dropna()\n",
        "\n",
        "# Crear transformación polinómica de grado 3\n",
        "poly = PolynomialFeatures(degree=3, include_bias=False)\n",
        "X_poly = poly.fit_transform(X)\n",
        "\n",
        "# Obtener nombres de las características\n",
        "feature_names = poly.get_feature_names_out(input_features=numeric_vars)\n",
        "\n",
        "# Crear DataFrame con las nuevas características\n",
        "poly_df = pd.DataFrame(X_poly, columns=feature_names)\n",
        "\n",
        "# Mostrar información sobre las transformaciones\n",
        "print(f\"Número de variables originales: {len(numeric_vars)}\")\n",
        "print(f\"Número de nuevas características polinómicas: {len(poly_df.columns)}\")\n",
        "print(\"\\nNombres de las nuevas características:\")\n",
        "print(feature_names)\n",
        "\n",
        "# Mostrar las primeras filas del DataFrame transformado\n",
        "print(\"\\nPrimeras filas del DataFrame transformado:\")\n",
        "print(poly_df.head())"
      ],
      "metadata": {
        "colab": {
          "base_uri": "https://localhost:8080/"
        },
        "id": "TP6KeNGAkqBn",
        "outputId": "20e79372-b184-4f2b-e39a-aa5f8ac37f0b"
      },
      "execution_count": null,
      "outputs": [
        {
          "output_type": "stream",
          "name": "stdout",
          "text": [
            "Número de variables originales: 3\n",
            "Número de nuevas características polinómicas: 19\n",
            "\n",
            "Nombres de las nuevas características:\n",
            "['LotArea' 'GrLivArea' 'TotalBsmtSF' 'LotArea^2' 'LotArea GrLivArea'\n",
            " 'LotArea TotalBsmtSF' 'GrLivArea^2' 'GrLivArea TotalBsmtSF'\n",
            " 'TotalBsmtSF^2' 'LotArea^3' 'LotArea^2 GrLivArea' 'LotArea^2 TotalBsmtSF'\n",
            " 'LotArea GrLivArea^2' 'LotArea GrLivArea TotalBsmtSF'\n",
            " 'LotArea TotalBsmtSF^2' 'GrLivArea^3' 'GrLivArea^2 TotalBsmtSF'\n",
            " 'GrLivArea TotalBsmtSF^2' 'TotalBsmtSF^3']\n",
            "\n",
            "Primeras filas del DataFrame transformado:\n",
            "   LotArea  GrLivArea  TotalBsmtSF    LotArea^2  LotArea GrLivArea  \\\n",
            "0   8450.0     1710.0        856.0   71402500.0         14449500.0   \n",
            "1   9600.0     1262.0       1262.0   92160000.0         12115200.0   \n",
            "2  11250.0     1786.0        920.0  126562500.0         20092500.0   \n",
            "3   9550.0     1717.0        756.0   91202500.0         16397350.0   \n",
            "4  14260.0     2198.0       1145.0  203347600.0         31343480.0   \n",
            "\n",
            "   LotArea TotalBsmtSF  GrLivArea^2  GrLivArea TotalBsmtSF  TotalBsmtSF^2  \\\n",
            "0            7233200.0    2924100.0              1463760.0       732736.0   \n",
            "1           12115200.0    1592644.0              1592644.0      1592644.0   \n",
            "2           10350000.0    3189796.0              1643120.0       846400.0   \n",
            "3            7219800.0    2948089.0              1298052.0       571536.0   \n",
            "4           16327700.0    4831204.0              2516710.0      1311025.0   \n",
            "\n",
            "      LotArea^3  LotArea^2 GrLivArea  LotArea^2 TotalBsmtSF  \\\n",
            "0  6.033511e+11         1.220983e+11           6.112054e+10   \n",
            "1  8.847360e+11         1.163059e+11           1.163059e+11   \n",
            "2  1.423828e+12         2.260406e+11           1.164375e+11   \n",
            "3  8.709839e+11         1.565947e+11           6.894909e+10   \n",
            "4  2.899737e+12         4.469580e+11           2.328330e+11   \n",
            "\n",
            "   LotArea GrLivArea^2  LotArea GrLivArea TotalBsmtSF  LotArea TotalBsmtSF^2  \\\n",
            "0         2.470864e+10                   1.236877e+10           6.191619e+09   \n",
            "1         1.528938e+10                   1.528938e+10           1.528938e+10   \n",
            "2         3.588520e+10                   1.848510e+10           9.522000e+09   \n",
            "3         2.815425e+10                   1.239640e+10           5.458169e+09   \n",
            "4         6.889297e+10                   3.588828e+10           1.869522e+10   \n",
            "\n",
            "    GrLivArea^3  GrLivArea^2 TotalBsmtSF  GrLivArea TotalBsmtSF^2  \\\n",
            "0  5.000211e+09             2.503030e+09             1.252979e+09   \n",
            "1  2.009917e+09             2.009917e+09             2.009917e+09   \n",
            "2  5.696976e+09             2.934612e+09             1.511670e+09   \n",
            "3  5.061869e+09             2.228755e+09             9.813273e+08   \n",
            "4  1.061899e+10             5.531729e+09             2.881633e+09   \n",
            "\n",
            "   TotalBsmtSF^3  \n",
            "0   6.272220e+08  \n",
            "1   2.009917e+09  \n",
            "2   7.786880e+08  \n",
            "3   4.320812e+08  \n",
            "4   1.501124e+09  \n"
          ]
        }
      ]
    }
  ]
}